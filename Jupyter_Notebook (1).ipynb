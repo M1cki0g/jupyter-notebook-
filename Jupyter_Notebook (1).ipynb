{
 "cells": [
  {
   "cell_type": "markdown",
   "metadata": {},
   "source": [
    "<center>\n",
    "    <img src=\"https://cf-courses-data.s3.us.cloud-object-storage.appdomain.cloud/IBMDeveloperSkillsNetwork-DS0105EN-SkillsNetwork/labs/Module2/images/SN_web_lightmode.png\" width=\"300\" alt=\"cognitiveclass.ai logo\">\n",
    "</center>\n"
   ]
  },
  {
   "cell_type": "markdown",
   "metadata": {},
   "source": [
    "#### Add your code below following the instructions given in the course\n"
   ]
  },
  {
   "cell_type": "markdown",
   "metadata": {},
   "source": [
    "# Jupyter_Notebook.ipynb"
   ]
  },
  {
   "cell_type": "markdown",
   "metadata": {},
   "source": [
    "# H1 Introduction\n",
    "Welcome to data science tools"
   ]
  },
  {
   "cell_type": "markdown",
   "metadata": {},
   "source": [
    "# data science languages\n",
    "- Python\n",
    "- R\n",
    "- Java\n",
    "- C"
   ]
  },
  {
   "cell_type": "markdown",
   "metadata": {},
   "source": [
    "# data science libraries\n",
    "- NumPy\n",
    "- Pandas\n",
    "- Matplotlib\n",
    "- Seaborn"
   ]
  },
  {
   "cell_type": "markdown",
   "metadata": {},
   "source": [
    "# table of data science tools\n",
    "| Tool            |\n",
    "|-----------------|\n",
    "| Jupyter Notebook|\n",
    "| Apache Spark    |\n",
    "| Tableau         |\n",
    "| TensorFlow      |"
   ]
  },
  {
   "cell_type": "markdown",
   "metadata": {},
   "source": [
    "# arithmetic expression examples\n",
    "1-1 = 0\n",
    "3-2 = 1\n",
    "2-3 = -1"
   ]
  },
  {
   "cell_type": "markdown",
   "metadata": {},
   "source": [
    "# multiply and add numbers\n",
    "a = int(input(\"enter first number\")\n",
    "b = int(input(\" enter second number\")\n",
    "c = int(input(\" enter third number\")\n",
    "res = (a*b)+c\n",
    "print(res)"
   ]
  },
  {
   "cell_type": "markdown",
   "metadata": {},
   "source": [
    "# code cell to convert minutes to hours\n",
    "min = int(input(\"enter the minutes\")\n",
    "hours = min / 60\n",
    "print(hours)"
   ]
  },
  {
   "cell_type": "markdown",
   "metadata": {},
   "source": [
    "# markdown cell to list Objectives\n",
    "1. first objective\n",
    "2. second objective\n",
    "3. third objective"
   ]
  },
  {
   "cell_type": "markdown",
   "metadata": {},
   "source": [
    "# a markdown cell to indicate the Author’s name\n",
    "Author name : Yassine Touli"
   ]
  }
 ],
 "metadata": {
  "kernelspec": {
   "display_name": "Python",
   "language": "python",
   "name": "conda-env-python-py"
  },
  "language_info": {
   "codemirror_mode": {
    "name": "ipython",
    "version": 3
   },
   "file_extension": ".py",
   "mimetype": "text/x-python",
   "name": "python",
   "nbconvert_exporter": "python",
   "pygments_lexer": "ipython3",
   "version": "3.7.12"
  }
 },
 "nbformat": 4,
 "nbformat_minor": 4
}
